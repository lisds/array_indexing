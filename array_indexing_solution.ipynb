{
 "cells": [
  {
   "cell_type": "markdown",
   "id": "6a2e6c6d",
   "metadata": {},
   "source": [
    "# Array indexing exercise\n",
    "\n",
    "These exercises follow on from the [array indexing page](https://lisds.github.io/textbook/arrays/array_indexing), and the page on [Boolean arrays]( https://lisds.github.io/textbook/arrays/boolean_arrays)."
   ]
  },
  {
   "cell_type": "markdown",
   "id": "e9184a26",
   "metadata": {},
   "source": [
    "Run this cell to start:"
   ]
  },
  {
   "cell_type": "code",
   "execution_count": 1,
   "id": "f090eb1e",
   "metadata": {
    "execution": {
     "iopub.execute_input": "2022-11-28T12:03:06.732030Z",
     "iopub.status.busy": "2022-11-28T12:03:06.731615Z",
     "iopub.status.idle": "2022-11-28T12:03:06.928119Z",
     "shell.execute_reply": "2022-11-28T12:03:06.927501Z"
    }
   },
   "outputs": [],
   "source": [
    "# Don't change this cell; just run it.\n",
    "import numpy as np\n",
    "\n",
    "# The OKpy testing system.\n",
    "from client.api.notebook import Notebook\n",
    "ok = Notebook('array_indexing.ok')"
   ]
  },
  {
   "cell_type": "markdown",
   "id": "e4fc6aa5",
   "metadata": {},
   "source": [
    "Here is the beginning of Hamlet's famous speech:\n",
    "\n",
    "> To be, or not to be, that is the question:\n",
    "> Whether 'tis nobler in the mind to suffer\n",
    "> The slings and arrows of outrageous fortune,\n",
    "\n",
    "And here is a slightly wrong version, as an array of words, and without the punctuation:"
   ]
  },
  {
   "cell_type": "code",
   "execution_count": 2,
   "id": "f16b62d1",
   "metadata": {
    "execution": {
     "iopub.execute_input": "2022-11-28T12:03:06.932209Z",
     "iopub.status.busy": "2022-11-28T12:03:06.931811Z",
     "iopub.status.idle": "2022-11-28T12:03:06.950299Z",
     "shell.execute_reply": "2022-11-28T12:03:06.949076Z"
    }
   },
   "outputs": [],
   "source": [
    "# A quote that isn't quite right.\n",
    "hamlets_words = np.array(['to', 'be', 'or', 'not', 'to', 'be',\n",
    "                          'that', 'be', 'the', 'question',\n",
    "                          'whether', 'be', 'nobler', 'in', 'the', 'marrow',\n",
    "                          'to', 'suffer', 'the', 'slings', 'and', 'arrows',\n",
    "                          'of', 'outrageous', 'fortune'])\n",
    "hamlets_words"
   ]
  },
  {
   "cell_type": "markdown",
   "id": "38f4cdc1",
   "metadata": {},
   "source": [
    "We can use the `join` method of strings to join these words together with a space (\" \") between each word:"
   ]
  },
  {
   "cell_type": "code",
   "execution_count": 3,
   "id": "0512aa5d",
   "metadata": {
    "execution": {
     "iopub.execute_input": "2022-11-28T12:03:06.956092Z",
     "iopub.status.busy": "2022-11-28T12:03:06.955815Z",
     "iopub.status.idle": "2022-11-28T12:03:06.965131Z",
     "shell.execute_reply": "2022-11-28T12:03:06.964557Z"
    }
   },
   "outputs": [],
   "source": [
    "\" \".join(hamlets_words)"
   ]
  },
  {
   "cell_type": "markdown",
   "id": "5adc749c",
   "metadata": {},
   "source": [
    "## Indexing with integers\n",
    "\n",
    "Use indexing with integers to set `first_word` to contain the first word in\n",
    "`hamlets_words`."
   ]
  },
  {
   "cell_type": "code",
   "execution_count": 4,
   "id": "5c3607af",
   "metadata": {
    "execution": {
     "iopub.execute_input": "2022-11-28T12:03:06.972648Z",
     "iopub.status.busy": "2022-11-28T12:03:06.972106Z",
     "iopub.status.idle": "2022-11-28T12:03:06.978438Z",
     "shell.execute_reply": "2022-11-28T12:03:06.977955Z"
    }
   },
   "outputs": [],
   "source": [
    "first_word = hamlets_words[0]\n",
    "first_word"
   ]
  },
  {
   "cell_type": "markdown",
   "id": "1850818e",
   "metadata": {},
   "source": [
    "Test the result:"
   ]
  },
  {
   "cell_type": "code",
   "execution_count": 5,
   "id": "c75e9ef5",
   "metadata": {
    "execution": {
     "iopub.execute_input": "2022-11-28T12:03:06.984286Z",
     "iopub.status.busy": "2022-11-28T12:03:06.984014Z",
     "iopub.status.idle": "2022-11-28T12:03:07.019067Z",
     "shell.execute_reply": "2022-11-28T12:03:07.018703Z"
    }
   },
   "outputs": [],
   "source": [
    "_ = ok.grade('q_first_word')"
   ]
  },
  {
   "cell_type": "markdown",
   "id": "1f3e7559",
   "metadata": {},
   "source": [
    "Use indexing with integers to set `funny_word` to have the value \"marrow\"."
   ]
  },
  {
   "cell_type": "code",
   "execution_count": 6,
   "id": "a96125e1",
   "metadata": {
    "execution": {
     "iopub.execute_input": "2022-11-28T12:03:07.024101Z",
     "iopub.status.busy": "2022-11-28T12:03:07.023926Z",
     "iopub.status.idle": "2022-11-28T12:03:07.026920Z",
     "shell.execute_reply": "2022-11-28T12:03:07.026564Z"
    }
   },
   "outputs": [],
   "source": [
    "funny_word = hamlets_words[15]\n",
    "funny_word"
   ]
  },
  {
   "cell_type": "markdown",
   "id": "a8d163e3",
   "metadata": {},
   "source": [
    "Test the result:"
   ]
  },
  {
   "cell_type": "code",
   "execution_count": 7,
   "id": "3a191eb2",
   "metadata": {
    "execution": {
     "iopub.execute_input": "2022-11-28T12:03:07.028971Z",
     "iopub.status.busy": "2022-11-28T12:03:07.028836Z",
     "iopub.status.idle": "2022-11-28T12:03:07.038141Z",
     "shell.execute_reply": "2022-11-28T12:03:07.037709Z"
    }
   },
   "outputs": [],
   "source": [
    "_ = ok.grade('q_funny_word')"
   ]
  },
  {
   "cell_type": "markdown",
   "id": "36f87751",
   "metadata": {},
   "source": [
    "Make a Boolean array `bees` that has `True` where the word in the matching\n",
    "position of `hamlets_words` is \"be\":"
   ]
  },
  {
   "cell_type": "code",
   "execution_count": 8,
   "id": "2bb180d8",
   "metadata": {
    "execution": {
     "iopub.execute_input": "2022-11-28T12:03:07.042360Z",
     "iopub.status.busy": "2022-11-28T12:03:07.042192Z",
     "iopub.status.idle": "2022-11-28T12:03:07.045714Z",
     "shell.execute_reply": "2022-11-28T12:03:07.045059Z"
    }
   },
   "outputs": [],
   "source": [
    "bees = hamlets_words == 'be'\n",
    "bees"
   ]
  },
  {
   "cell_type": "code",
   "execution_count": 9,
   "id": "cd609b08",
   "metadata": {
    "execution": {
     "iopub.execute_input": "2022-11-28T12:03:07.047800Z",
     "iopub.status.busy": "2022-11-28T12:03:07.047668Z",
     "iopub.status.idle": "2022-11-28T12:03:07.059035Z",
     "shell.execute_reply": "2022-11-28T12:03:07.058690Z"
    }
   },
   "outputs": [],
   "source": [
    "_ = ok.grade('q_bees')"
   ]
  },
  {
   "cell_type": "markdown",
   "id": "f7891f91",
   "metadata": {},
   "source": [
    "Use `np.count_nonzero` to set `n_bees` to have the number of times the word \"be\" appears in `hamlets_words`."
   ]
  },
  {
   "cell_type": "code",
   "execution_count": 10,
   "id": "f1398f01",
   "metadata": {
    "execution": {
     "iopub.execute_input": "2022-11-28T12:03:07.063048Z",
     "iopub.status.busy": "2022-11-28T12:03:07.062901Z",
     "iopub.status.idle": "2022-11-28T12:03:07.065404Z",
     "shell.execute_reply": "2022-11-28T12:03:07.065100Z"
    }
   },
   "outputs": [],
   "source": [
    "n_bees = np.count_nonzero(bees)\n",
    "n_bees"
   ]
  },
  {
   "cell_type": "code",
   "execution_count": 11,
   "id": "a279d9e8",
   "metadata": {
    "execution": {
     "iopub.execute_input": "2022-11-28T12:03:07.067215Z",
     "iopub.status.busy": "2022-11-28T12:03:07.067079Z",
     "iopub.status.idle": "2022-11-28T12:03:07.075081Z",
     "shell.execute_reply": "2022-11-28T12:03:07.074746Z"
    }
   },
   "outputs": [],
   "source": [
    "_ = ok.grade('q_n_bees')"
   ]
  },
  {
   "cell_type": "markdown",
   "id": "354fa2dc",
   "metadata": {},
   "source": [
    "Run this cell to make a copy of `hamlets_words`. This uses the `copy` method of the array, to return a new copy."
   ]
  },
  {
   "cell_type": "code",
   "execution_count": 12,
   "id": "15bb1286",
   "metadata": {
    "execution": {
     "iopub.execute_input": "2022-11-28T12:03:07.078965Z",
     "iopub.status.busy": "2022-11-28T12:03:07.078826Z",
     "iopub.status.idle": "2022-11-28T12:03:07.080738Z",
     "shell.execute_reply": "2022-11-28T12:03:07.080434Z"
    }
   },
   "outputs": [],
   "source": [
    "# Run this cell\n",
    "hamlet_improved = hamlets_words.copy()"
   ]
  },
  {
   "cell_type": "markdown",
   "id": "b7d2fe53",
   "metadata": {},
   "source": [
    "Use array assignment with indexing, to replace the word \"marrow\" with the world \"mind\", in the `hamlet_improved` array"
   ]
  },
  {
   "cell_type": "code",
   "execution_count": 13,
   "id": "8721354d",
   "metadata": {
    "execution": {
     "iopub.execute_input": "2022-11-28T12:03:07.082574Z",
     "iopub.status.busy": "2022-11-28T12:03:07.082434Z",
     "iopub.status.idle": "2022-11-28T12:03:07.085146Z",
     "shell.execute_reply": "2022-11-28T12:03:07.084815Z"
    }
   },
   "outputs": [],
   "source": [
    "hamlet_improved[15] = 'mind'\n",
    "hamlet_improved"
   ]
  },
  {
   "cell_type": "code",
   "execution_count": 14,
   "id": "07c96c1c",
   "metadata": {
    "execution": {
     "iopub.execute_input": "2022-11-28T12:03:07.086937Z",
     "iopub.status.busy": "2022-11-28T12:03:07.086797Z",
     "iopub.status.idle": "2022-11-28T12:03:07.095318Z",
     "shell.execute_reply": "2022-11-28T12:03:07.094973Z"
    }
   },
   "outputs": [],
   "source": [
    "_ = ok.grade('q_hamlet_improved')"
   ]
  },
  {
   "cell_type": "markdown",
   "id": "73de2c2e",
   "metadata": {},
   "source": [
    "Run this cell to make a copy of `hamlet_improved` to finish up your work of fixing."
   ]
  },
  {
   "cell_type": "code",
   "execution_count": 15,
   "id": "067efc21",
   "metadata": {
    "execution": {
     "iopub.execute_input": "2022-11-28T12:03:07.099074Z",
     "iopub.status.busy": "2022-11-28T12:03:07.098939Z",
     "iopub.status.idle": "2022-11-28T12:03:07.100793Z",
     "shell.execute_reply": "2022-11-28T12:03:07.100496Z"
    }
   },
   "outputs": [],
   "source": [
    "# Run this cell\n",
    "hamlet_fixed = hamlet_improved.copy()"
   ]
  },
  {
   "cell_type": "markdown",
   "id": "1487ee49",
   "metadata": {},
   "source": [
    "Use array assignment with indexing to fix the remaining words in the\n",
    "`hamlet_fixed` quote, and then set `hamlet_joined` to the result of joining\n",
    "the words with a space.\n",
    "\n",
    "You will likely need a few lines here."
   ]
  },
  {
   "cell_type": "code",
   "execution_count": 16,
   "id": "163f2840",
   "metadata": {
    "execution": {
     "iopub.execute_input": "2022-11-28T12:03:07.102724Z",
     "iopub.status.busy": "2022-11-28T12:03:07.102581Z",
     "iopub.status.idle": "2022-11-28T12:03:07.105279Z",
     "shell.execute_reply": "2022-11-28T12:03:07.104966Z"
    }
   },
   "outputs": [],
   "source": [
    "hamlet_fixed[7] = 'is'\n",
    "hamlet_fixed[11] = \"'tis\"\n",
    "hamlet_joined = \" \".join(hamlet_fixed)\n",
    "hamlet_joined"
   ]
  },
  {
   "cell_type": "code",
   "execution_count": 17,
   "id": "ae287cee",
   "metadata": {
    "execution": {
     "iopub.execute_input": "2022-11-28T12:03:07.107017Z",
     "iopub.status.busy": "2022-11-28T12:03:07.106879Z",
     "iopub.status.idle": "2022-11-28T12:03:07.116343Z",
     "shell.execute_reply": "2022-11-28T12:03:07.115990Z"
    }
   },
   "outputs": [],
   "source": [
    "_ = ok.grade('q_hamlet_joined')"
   ]
  }
 ],
 "metadata": {
  "jupytext": {
   "notebook_metadata_filter": "language_info,needs",
   "text_representation": {
    "extension": ".Rmd",
    "format_name": "rmarkdown",
    "format_version": "1.2",
    "jupytext_version": "1.10.3"
   }
  },
  "kernelspec": {
   "display_name": "Python 3 (ipykernel)",
   "language": "python",
   "name": "python3"
  },
  "language_info": {
   "codemirror_mode": {
    "name": "ipython",
    "version": 3
   },
   "file_extension": ".py",
   "mimetype": "text/x-python",
   "name": "python",
   "nbconvert_exporter": "python",
   "pygments_lexer": "ipython3",
   "version": "3.10.7"
  },
  "needs": [
   "filling_arrays",
   "array_indexing",
   "boolean_arrays"
  ]
 },
 "nbformat": 4,
 "nbformat_minor": 5
}
