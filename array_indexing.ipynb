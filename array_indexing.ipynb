{
 "cells": [
  {
   "cell_type": "markdown",
   "id": "76c1f30e",
   "metadata": {},
   "source": [
    "# Array indexing exercises\n",
    "\n",
    "These exercises follow on from the [array indexing page](https://lisds.github.io/textbook/arrays/array_indexing).\n",
    "\n",
    "Run this cell to start:"
   ]
  },
  {
   "cell_type": "code",
   "execution_count": null,
   "id": "9eb740f3",
   "metadata": {},
   "outputs": [],
   "source": [
    "# Don't change this cell; just run it.\n",
    "import numpy as np\n",
    "\n",
    "# The OKpy testing system.\n",
    "from client.api.notebook import Notebook\n",
    "ok = Notebook('array_indexing.ok')"
   ]
  },
  {
   "cell_type": "markdown",
   "id": "895e09a7",
   "metadata": {},
   "source": [
    "Here is the beginning of Hamlet's famous speech:\n",
    "\n",
    "> To be, or not to be, that is the question:\n",
    "> Whether 'tis nobler in the mind to suffer\n",
    "> The slings and arrows of outrageous fortune,\n",
    "\n",
    "And here is a slightly wrong version, as an array of words, and without the punctuation:"
   ]
  },
  {
   "cell_type": "code",
   "execution_count": null,
   "id": "ffc4ac6c",
   "metadata": {},
   "outputs": [],
   "source": [
    "# A quote that isn't quite right.\n",
    "hamlets_words = np.array(['to', 'be', 'or', 'not', 'to', 'be',\n",
    "                          'that', 'be', 'the', 'question',\n",
    "                          'whether', 'be', 'nobler', 'in', 'the', 'marrow',\n",
    "                          'to', 'suffer', 'the', 'slings', 'and', 'arrows',\n",
    "                          'of', 'outrageous', 'fortune'])\n",
    "hamlets_words"
   ]
  },
  {
   "cell_type": "markdown",
   "id": "2ae92915",
   "metadata": {},
   "source": [
    "We can use the `join` method of strings to join these words together with a space (\" \") between each word:"
   ]
  },
  {
   "cell_type": "code",
   "execution_count": null,
   "id": "21ccafab",
   "metadata": {},
   "outputs": [],
   "source": [
    "\" \".join(hamlets_words)"
   ]
  },
  {
   "cell_type": "markdown",
   "id": "4ec239db",
   "metadata": {},
   "source": [
    "## Indexing with integers\n",
    "\n",
    "Use indexing with integers to set `first_word` to contain the first word in\n",
    "`hamlets_words`."
   ]
  },
  {
   "cell_type": "code",
   "execution_count": null,
   "id": "4cebfd13",
   "metadata": {},
   "outputs": [],
   "source": [
    "first_word = ...\n",
    "first_word"
   ]
  },
  {
   "cell_type": "markdown",
   "id": "aeaceeb9",
   "metadata": {},
   "source": [
    "Test the result:"
   ]
  },
  {
   "cell_type": "code",
   "execution_count": null,
   "id": "cf6f59c2",
   "metadata": {},
   "outputs": [],
   "source": [
    "_ = ok.grade('q_first_word')"
   ]
  },
  {
   "cell_type": "markdown",
   "id": "f9b2032b",
   "metadata": {},
   "source": [
    "Use indexing with integers to set `funny_word` to have the value \"marrow\"."
   ]
  },
  {
   "cell_type": "code",
   "execution_count": null,
   "id": "203c8f52",
   "metadata": {},
   "outputs": [],
   "source": [
    "funny_word = ...\n",
    "funny_word"
   ]
  },
  {
   "cell_type": "markdown",
   "id": "f7cfb084",
   "metadata": {},
   "source": [
    "Test the result:"
   ]
  },
  {
   "cell_type": "code",
   "execution_count": null,
   "id": "31076dc6",
   "metadata": {},
   "outputs": [],
   "source": [
    "_ = ok.grade('q_funny_word')"
   ]
  },
  {
   "cell_type": "markdown",
   "id": "08992dce",
   "metadata": {},
   "source": [
    "Make a Boolean array `bees` that has `True` where the word in the matching\n",
    "position of `hamlets_words` is \"be\":"
   ]
  },
  {
   "cell_type": "code",
   "execution_count": null,
   "id": "406dd843",
   "metadata": {},
   "outputs": [],
   "source": [
    "bees = hamlets_words...\n",
    "bees"
   ]
  },
  {
   "cell_type": "code",
   "execution_count": null,
   "id": "aa552974",
   "metadata": {},
   "outputs": [],
   "source": [
    "_ = ok.grade('q_bees')"
   ]
  },
  {
   "cell_type": "markdown",
   "id": "bac82393",
   "metadata": {},
   "source": [
    "Use `np.count_nonzero` to set `n_bees` to have the number of times the word \"be\" appears in `hamlets_words`."
   ]
  },
  {
   "cell_type": "code",
   "execution_count": null,
   "id": "dcb3f1c0",
   "metadata": {},
   "outputs": [],
   "source": [
    "n_bees = ...\n",
    "n_bees"
   ]
  },
  {
   "cell_type": "code",
   "execution_count": null,
   "id": "611c5ded",
   "metadata": {},
   "outputs": [],
   "source": [
    "_ = ok.grade('q_n_bees')"
   ]
  },
  {
   "cell_type": "markdown",
   "id": "45f68714",
   "metadata": {},
   "source": [
    "Run this cell to make a copy of `hamlets_words`. This uses the `copy` method of the array, to return a new copy."
   ]
  },
  {
   "cell_type": "code",
   "execution_count": null,
   "id": "92100beb",
   "metadata": {},
   "outputs": [],
   "source": [
    "# Run this cell\n",
    "hamlet_improved = hamlets_words.copy()"
   ]
  },
  {
   "cell_type": "markdown",
   "id": "a90d0370",
   "metadata": {},
   "source": [
    "Use array assignment with indexing, to replace the word \"marrow\" with the world \"mind\", in the `hamlet_improved` array"
   ]
  },
  {
   "cell_type": "code",
   "execution_count": null,
   "id": "c1a6ce73",
   "metadata": {},
   "outputs": [],
   "source": [
    "hamlet_improved[.....\n",
    "hamlet_improved"
   ]
  },
  {
   "cell_type": "code",
   "execution_count": null,
   "id": "3f778c1c",
   "metadata": {},
   "outputs": [],
   "source": [
    "_ = ok.grade('q_hamlet_improved')"
   ]
  },
  {
   "cell_type": "markdown",
   "id": "4490b7a9",
   "metadata": {},
   "source": [
    "Run this cell to make a copy of `hamlet_improved` to finish up your work of fixing."
   ]
  },
  {
   "cell_type": "code",
   "execution_count": null,
   "id": "9f8add66",
   "metadata": {},
   "outputs": [],
   "source": [
    "# Run this cell\n",
    "hamlet_fixed = hamlet_improved.copy()"
   ]
  },
  {
   "cell_type": "markdown",
   "id": "a47c03a7",
   "metadata": {},
   "source": [
    "Use array assignment with indexing to fix the remaining words in the\n",
    "`hamlet_fixed` quote, and then set `hamlet_joined` to the result of joining\n",
    "the words with a space.\n",
    "\n",
    "You will likely need a few lines here."
   ]
  },
  {
   "cell_type": "code",
   "execution_count": null,
   "id": "69042bbf",
   "metadata": {},
   "outputs": [],
   "source": [
    "hamlet_fixed[...\n",
    "...\n",
    "hamlet_joined = ...\n",
    "hamlet_joined"
   ]
  },
  {
   "cell_type": "code",
   "execution_count": null,
   "id": "c13e169e",
   "metadata": {},
   "outputs": [],
   "source": [
    "_ = ok.grade('q_hamlet_joined')"
   ]
  }
 ],
 "metadata": {
  "jupytext": {
   "notebook_metadata_filter": "language_info",
   "text_representation": {
    "extension": ".Rmd",
    "format_name": "rmarkdown",
    "format_version": "1.2",
    "jupytext_version": "1.10.3"
   }
  },
  "kernelspec": {
   "display_name": "Python 3 (ipykernel)",
   "language": "python",
   "name": "python3"
  },
  "language_info": {
   "codemirror_mode": {
    "name": "ipython",
    "version": 3
   },
   "file_extension": ".py",
   "mimetype": "text/x-python",
   "name": "python",
   "nbconvert_exporter": "python",
   "pygments_lexer": "ipython3",
   "version": "3.8.11"
  }
 },
 "nbformat": 4,
 "nbformat_minor": 5
}
