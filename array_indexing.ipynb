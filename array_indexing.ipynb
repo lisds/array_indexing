{
 "cells": [
  {
   "cell_type": "markdown",
   "id": "1b065240",
   "metadata": {},
   "source": [
    "# Array indexing exercise\n",
    "\n",
    "These exercises follow on from the [array indexing page](https://lisds.github.io/textbook/arrays/array_indexing), and the page on [Boolean arrays]( https://lisds.github.io/textbook/arrays/boolean_arrays)."
   ]
  },
  {
   "cell_type": "markdown",
   "id": "70082400",
   "metadata": {},
   "source": [
    "Run this cell to start:"
   ]
  },
  {
   "cell_type": "code",
   "execution_count": null,
   "id": "f2882486",
   "metadata": {},
   "outputs": [],
   "source": [
    "# Don't change this cell; just run it.\n",
    "import numpy as np\n",
    "\n",
    "# The OKpy testing system.\n",
    "from client.api.notebook import Notebook\n",
    "ok = Notebook('array_indexing.ok')"
   ]
  },
  {
   "cell_type": "markdown",
   "id": "3faf51dd",
   "metadata": {},
   "source": [
    "Here is the beginning of Hamlet's famous speech:\n",
    "\n",
    "> To be, or not to be, that is the question:\n",
    "> Whether 'tis nobler in the mind to suffer\n",
    "> The slings and arrows of outrageous fortune,\n",
    "\n",
    "And here is a slightly wrong version, as an array of words, and without the punctuation:"
   ]
  },
  {
   "cell_type": "code",
   "execution_count": null,
   "id": "610d4591",
   "metadata": {},
   "outputs": [],
   "source": [
    "# A quote that isn't quite right.\n",
    "hamlets_words = np.array(['to', 'be', 'or', 'not', 'to', 'be',\n",
    "                          'that', 'be', 'the', 'question',\n",
    "                          'whether', 'be', 'nobler', 'in', 'the', 'marrow',\n",
    "                          'to', 'suffer', 'the', 'slings', 'and', 'arrows',\n",
    "                          'of', 'outrageous', 'fortune'])\n",
    "hamlets_words"
   ]
  },
  {
   "cell_type": "markdown",
   "id": "970dc60e",
   "metadata": {},
   "source": [
    "We can use the `join` method of strings to join these words together with a space (\" \") between each word:"
   ]
  },
  {
   "cell_type": "code",
   "execution_count": null,
   "id": "a11a021b",
   "metadata": {},
   "outputs": [],
   "source": [
    "\" \".join(hamlets_words)"
   ]
  },
  {
   "cell_type": "markdown",
   "id": "a7b948f5",
   "metadata": {},
   "source": [
    "## Indexing with integers\n",
    "\n",
    "Use indexing with integers to set `first_word` to contain the first word in\n",
    "`hamlets_words`."
   ]
  },
  {
   "cell_type": "code",
   "execution_count": null,
   "id": "d1cc12cb",
   "metadata": {},
   "outputs": [],
   "source": [
    "first_word = ...\n",
    "first_word"
   ]
  },
  {
   "cell_type": "markdown",
   "id": "15015778",
   "metadata": {},
   "source": [
    "Test the result:"
   ]
  },
  {
   "cell_type": "code",
   "execution_count": null,
   "id": "0ccd809f",
   "metadata": {},
   "outputs": [],
   "source": [
    "_ = ok.grade('q_first_word')"
   ]
  },
  {
   "cell_type": "markdown",
   "id": "ee5f0828",
   "metadata": {},
   "source": [
    "Use indexing with integers to set `funny_word` to have the value \"marrow\"."
   ]
  },
  {
   "cell_type": "code",
   "execution_count": null,
   "id": "7906ac2f",
   "metadata": {},
   "outputs": [],
   "source": [
    "funny_word = ...\n",
    "funny_word"
   ]
  },
  {
   "cell_type": "markdown",
   "id": "d41889a2",
   "metadata": {},
   "source": [
    "Test the result:"
   ]
  },
  {
   "cell_type": "code",
   "execution_count": null,
   "id": "c37a0d2d",
   "metadata": {},
   "outputs": [],
   "source": [
    "_ = ok.grade('q_funny_word')"
   ]
  },
  {
   "cell_type": "markdown",
   "id": "463583a5",
   "metadata": {},
   "source": [
    "Make a Boolean array `bees` that has `True` where the word in the matching\n",
    "position of `hamlets_words` is \"be\":"
   ]
  },
  {
   "cell_type": "code",
   "execution_count": null,
   "id": "3ff13bd3",
   "metadata": {},
   "outputs": [],
   "source": [
    "bees = hamlets_words...\n",
    "bees"
   ]
  },
  {
   "cell_type": "code",
   "execution_count": null,
   "id": "660eae66",
   "metadata": {},
   "outputs": [],
   "source": [
    "_ = ok.grade('q_bees')"
   ]
  },
  {
   "cell_type": "markdown",
   "id": "f7756649",
   "metadata": {},
   "source": [
    "Use `np.count_nonzero` to set `n_bees` to have the number of times the word \"be\" appears in `hamlets_words`."
   ]
  },
  {
   "cell_type": "code",
   "execution_count": null,
   "id": "0c9a2c19",
   "metadata": {},
   "outputs": [],
   "source": [
    "n_bees = ...\n",
    "n_bees"
   ]
  },
  {
   "cell_type": "code",
   "execution_count": null,
   "id": "5fa74e54",
   "metadata": {},
   "outputs": [],
   "source": [
    "_ = ok.grade('q_n_bees')"
   ]
  },
  {
   "cell_type": "markdown",
   "id": "67c17f76",
   "metadata": {},
   "source": [
    "Run this cell to make a copy of `hamlets_words`. This uses the `copy` method of the array, to return a new copy."
   ]
  },
  {
   "cell_type": "code",
   "execution_count": null,
   "id": "6298484f",
   "metadata": {},
   "outputs": [],
   "source": [
    "# Run this cell\n",
    "hamlet_improved = hamlets_words.copy()"
   ]
  },
  {
   "cell_type": "markdown",
   "id": "8fab8cbc",
   "metadata": {},
   "source": [
    "Use array assignment with indexing, to replace the word \"marrow\" with the world \"mind\", in the `hamlet_improved` array"
   ]
  },
  {
   "cell_type": "code",
   "execution_count": null,
   "id": "71a87b99",
   "metadata": {},
   "outputs": [],
   "source": [
    "hamlet_improved[.....\n",
    "hamlet_improved"
   ]
  },
  {
   "cell_type": "code",
   "execution_count": null,
   "id": "fad0619a",
   "metadata": {},
   "outputs": [],
   "source": [
    "_ = ok.grade('q_hamlet_improved')"
   ]
  },
  {
   "cell_type": "markdown",
   "id": "a68a1134",
   "metadata": {},
   "source": [
    "Run this cell to make a copy of `hamlet_improved` to finish up your work of fixing."
   ]
  },
  {
   "cell_type": "code",
   "execution_count": null,
   "id": "98630274",
   "metadata": {},
   "outputs": [],
   "source": [
    "# Run this cell\n",
    "hamlet_fixed = hamlet_improved.copy()"
   ]
  },
  {
   "cell_type": "markdown",
   "id": "3f592d7a",
   "metadata": {},
   "source": [
    "Use array assignment with indexing to fix the remaining words in the\n",
    "`hamlet_fixed` quote, and then set `hamlet_joined` to the result of joining\n",
    "the words with a space.\n",
    "\n",
    "You will likely need a few lines here."
   ]
  },
  {
   "cell_type": "code",
   "execution_count": null,
   "id": "90138f5a",
   "metadata": {},
   "outputs": [],
   "source": [
    "hamlet_fixed[...\n",
    "...\n",
    "hamlet_joined = ...\n",
    "hamlet_joined"
   ]
  },
  {
   "cell_type": "code",
   "execution_count": null,
   "id": "418e79c9",
   "metadata": {},
   "outputs": [],
   "source": [
    "_ = ok.grade('q_hamlet_joined')"
   ]
  }
 ],
 "metadata": {
  "jupytext": {
   "notebook_metadata_filter": "language_info,needs",
   "text_representation": {
    "extension": ".Rmd",
    "format_name": "rmarkdown",
    "format_version": "1.2",
    "jupytext_version": "1.10.3"
   }
  },
  "kernelspec": {
   "display_name": "Python 3 (ipykernel)",
   "language": "python",
   "name": "python3"
  },
  "language_info": {
   "codemirror_mode": {
    "name": "ipython",
    "version": 3
   },
   "file_extension": ".py",
   "mimetype": "text/x-python",
   "name": "python",
   "nbconvert_exporter": "python",
   "pygments_lexer": "ipython3",
   "version": "3.8.11"
  },
  "needs": [
   "filling_arrays",
   "array_indexing",
   "boolean_arrays"
  ]
 },
 "nbformat": 4,
 "nbformat_minor": 5
}
